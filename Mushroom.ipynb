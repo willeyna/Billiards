{
 "cells": [
  {
   "cell_type": "code",
   "execution_count": 3,
   "id": "fd46537e",
   "metadata": {},
   "outputs": [],
   "source": [
    "from billiards import *"
   ]
  },
  {
   "cell_type": "code",
   "execution_count": 4,
   "id": "018a6788",
   "metadata": {},
   "outputs": [],
   "source": [
    "def mushroom(t):\n",
    "    if t < 0.5:\n",
    "        return circle(t)\n",
    "    if t <= 5/8:\n",
    "        t -= .5\n",
    "        return np.array([-1, -8*t])\n",
    "    if t <= 7/8:\n",
    "        t -= 5/8\n",
    "        return np.array([-1 + 8*t, -1])\n",
    "    else:\n",
    "        t -= 7/8\n",
    "        return np.array([1, -1 + 8*t])"
   ]
  },
  {
   "cell_type": "code",
   "execution_count": null,
   "id": "49a1b6a3",
   "metadata": {},
   "outputs": [],
   "source": [
    "x = np.array([0,0])\n",
    "v = np.array([5,-2.2])\n",
    "p = np.array([0,0])\n",
    "\n",
    "N = 2000\n",
    "#stores result where X[i,j] is the ith bounce's jth result in (x, v, p-section)\n",
    "X = np.zeros([N,3,2])\n",
    "X[0] = x,v,p\n",
    "\n",
    "#bounce N times and plot trajectories\n",
    "for i in range(N-1):\n",
    "    X[i+1] = bounce(X[i,0], X[i,1], mushroom, tol = 1e-8, poincare = True)"
   ]
  },
  {
   "cell_type": "code",
   "execution_count": null,
   "id": "1493133f",
   "metadata": {},
   "outputs": [],
   "source": [
    "fig = plt.figure(figsize = (15,5))\n",
    "\n",
    "#plot circlular border\n",
    "t = np.linspace(0, 1, 1000)\n",
    "border = np.zeros([t.shape[0], 2])\n",
    "for i in range(border.shape[0]):\n",
    "    border[i] = mushroom(t[i])\n",
    "    \n",
    "plt.plot(border[:,0], border[:,1], color = 'black')\n",
    "plt.axis('equal')\n",
    "\n",
    "for i in range(len(X)-1):\n",
    "    plt.plot([X[i,0][0], X[i+1,0][0]], [X[i,0][1], X[i+1,0][1]], color = 'red', alpha = (i+1)/len(X))"
   ]
  },
  {
   "cell_type": "code",
   "execution_count": null,
   "id": "9ff54bf7",
   "metadata": {},
   "outputs": [],
   "source": [
    "fig = plt.figure(figsize = (10,10))\n",
    "imgname = 'placeholder'\n",
    "\n",
    "delt = .1\n",
    "cmap = np.arange(X.shape[0])\n",
    "plt.scatter(X[:,2,0], X[:,2,1], cmap = 'coolwarm', c = cmap, alpha = 1, s = 20)\n",
    "plt.xlim(0-delt,1+delt)\n",
    "plt.ylim(0-delt,1+delt)\n",
    "plt.xlabel('Location on Curve')\n",
    "plt.ylabel(\"Tangential Velocity\")\n",
    "plt.title(f\"Square Billiards Poincare Section x=({x[0]}, {x[1]}),  v=({v[0]}, {v[1]})\", fontsize = 14)\n",
    "plt.savefig(f'./images/{imgname}.png')"
   ]
  }
 ],
 "metadata": {
  "kernelspec": {
   "display_name": "Python 3",
   "language": "python",
   "name": "python3"
  },
  "language_info": {
   "codemirror_mode": {
    "name": "ipython",
    "version": 3
   },
   "file_extension": ".py",
   "mimetype": "text/x-python",
   "name": "python",
   "nbconvert_exporter": "python",
   "pygments_lexer": "ipython3",
   "version": "3.7.10"
  }
 },
 "nbformat": 4,
 "nbformat_minor": 5
}
