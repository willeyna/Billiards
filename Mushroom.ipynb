{
 "cells": [
  {
   "cell_type": "code",
   "execution_count": 1,
   "id": "fd46537e",
   "metadata": {},
   "outputs": [],
   "source": [
    "from class_billiards import *"
   ]
  },
  {
   "cell_type": "code",
   "execution_count": 2,
   "id": "018a6788",
   "metadata": {},
   "outputs": [],
   "source": [
    "# two basic boundary options\n",
    "def circle(s):\n",
    "    s *= 2*np.pi\n",
    "    return np.array([np.cos(s),np.sin(s)])\n",
    "\n",
    "def mushroom(t):\n",
    "    if t < 0.5:\n",
    "        return circle(t)\n",
    "    if t <= .6:\n",
    "        t -= .5\n",
    "        return np.array([-1+ 5*t, 0])\n",
    "    if t <= .7:\n",
    "        t -= .6\n",
    "        return np.array([-.5, -10*t])\n",
    "    if t <= .8:\n",
    "        t -= .7\n",
    "        return np.array([-.5 + 10*t, -1])\n",
    "    if t <= .9:\n",
    "        t -= .8\n",
    "        return np.array([.5, -1 + 10*t])\n",
    "    else:\n",
    "        t-=.9\n",
    "        return np.array([.5 + 5*t, 0])"
   ]
  },
  {
   "cell_type": "code",
   "execution_count": null,
   "id": "bbc28abc",
   "metadata": {
    "scrolled": true
   },
   "outputs": [],
   "source": [
    "x = np.array([-.3, .25])\n",
    "v = np.array([.1, -.2])\n",
    "N = 1000\n",
    "\n",
    "ball = Billiards(mushroom, x, v, poincare = True, convexity = 10000)\n",
    "for i in range(N):\n",
    "    ball.bounce()"
   ]
  },
  {
   "cell_type": "code",
   "execution_count": null,
   "id": "95e92481",
   "metadata": {},
   "outputs": [],
   "source": [
    "ball.plot_path()"
   ]
  },
  {
   "cell_type": "code",
   "execution_count": null,
   "id": "ed9415b8",
   "metadata": {},
   "outputs": [],
   "source": [
    "ball.plot_poincare()"
   ]
  }
 ],
 "metadata": {
  "kernelspec": {
   "display_name": "Python 3",
   "language": "python",
   "name": "python3"
  },
  "language_info": {
   "codemirror_mode": {
    "name": "ipython",
    "version": 3
   },
   "file_extension": ".py",
   "mimetype": "text/x-python",
   "name": "python",
   "nbconvert_exporter": "python",
   "pygments_lexer": "ipython3",
   "version": "3.7.10"
  }
 },
 "nbformat": 4,
 "nbformat_minor": 5
}
