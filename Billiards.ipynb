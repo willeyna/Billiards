{
 "cells": [
  {
   "cell_type": "code",
   "execution_count": 412,
   "id": "9813f2a1",
   "metadata": {},
   "outputs": [],
   "source": [
    "import numpy as np\n",
    "import matplotlib.pyplot as plt\n",
    "from scipy.optimize import minimize"
   ]
  },
  {
   "cell_type": "markdown",
   "id": "b56e13a8",
   "metadata": {},
   "source": [
    "# Circular Billiards Table"
   ]
  },
  {
   "cell_type": "markdown",
   "id": "01a98026",
   "metadata": {},
   "source": [
    "## Process outline (WIP)\n",
    "\n",
    "1. Define position and velocity of initial ball\n",
    "2. Find where ball will hit the edge (parametrize line and iterate?)\n",
    "3. Find normal line to border using derivative\n",
    "4. Find angle between normal line and $e_1$; if in QI/III adjust by $\\pi - \\phi$\n",
    "5. Rot, reflect, rot inv L \n",
    "6. Hit spot is new x and rot inv is new\n",
    "\n",
    "$$ x = x_1 + t(x_2 - x_1) $$\n",
    "$$ y = y_1 + t(y_2 - y_1) $$\n",
    "\n",
    "Starting with a computational method rather than an analytical one to broaden perspective"
   ]
  },
  {
   "cell_type": "code",
   "execution_count": 413,
   "id": "1a55edd5",
   "metadata": {},
   "outputs": [],
   "source": [
    "#parametrization of line between p1 and p2-- input t in [0,1] to get [x,y]\n",
    "def xy(t, p1, p2):\n",
    "    x = p1[0] +  t*(p2[0]-p1[0])\n",
    "    y = p1[1] +  t*(p2[1]-p1[1])\n",
    "    return np.array([x,y])\n",
    "\n",
    "#distance to boundary parametrized \n",
    "def param_boundary(t, x, v, boundary):\n",
    "    return boundary(*xy(t, x, x + 2*v))\n",
    "\n",
    "#reflect around line theta from x axis \n",
    "def R(theta):\n",
    "    return np.array([[np.cos(theta)**2 - np.sin(theta)**2, 2*np.cos(theta)*np.sin(theta)],\n",
    "             [2*np.cos(theta)*np.sin(theta), np.sin(theta)**2 - np.cos(theta)**2]])"
   ]
  },
  {
   "cell_type": "code",
   "execution_count": 414,
   "id": "2ac9a774",
   "metadata": {},
   "outputs": [],
   "source": [
    "#gives error in equation\n",
    "#move all nonzero terms to one side \n",
    "#keep boundary within radius 1 \n",
    "def circle(x,y):\n",
    "    return np.abs(x**2 + y**2 - 1)\n",
    "\n",
    "#return dy/dx\n",
    "def d_circle(x,y):\n",
    "    return (-1*x)/y"
   ]
  },
  {
   "cell_type": "code",
   "execution_count": 415,
   "id": "7da92e76",
   "metadata": {},
   "outputs": [],
   "source": [
    "def ellipse(x,y):\n",
    "    return np.abs((x**2)/2 + y**2 - 0.5)\n",
    "\n",
    "#return dy/dx\n",
    "def d_ellipse(x,y):\n",
    "    return (x)/(-2*y)"
   ]
  },
  {
   "cell_type": "code",
   "execution_count": 416,
   "id": "b78f0b88",
   "metadata": {},
   "outputs": [],
   "source": [
    "#normalize\n",
    "x = np.array([.1,.1])\n",
    "v = np.array([1,0])\n",
    "v = v/np.linalg.norm(v)"
   ]
  },
  {
   "cell_type": "code",
   "execution_count": 417,
   "id": "b5567f60",
   "metadata": {},
   "outputs": [],
   "source": [
    "t_min = minimize(param_boundary, .5, args = (x, v, ellipse), bounds = ((.1,1),),method = 'Powell').x[0]\n",
    "m = xy(t_min, x, x + 2*v)"
   ]
  },
  {
   "cell_type": "code",
   "execution_count": 418,
   "id": "69199b12",
   "metadata": {},
   "outputs": [
    {
     "data": {
      "text/plain": [
       "array([0.98994949, 0.1       ])"
      ]
     },
     "execution_count": 418,
     "metadata": {},
     "output_type": "execute_result"
    }
   ],
   "source": [
    "m"
   ]
  },
  {
   "cell_type": "code",
   "execution_count": 419,
   "id": "470f7779",
   "metadata": {},
   "outputs": [],
   "source": [
    "# n = np.array([1, -1/d_circle(*m)])\n",
    "# n /= np.linalg.norm(n)\n",
    "# phi = np.arccos(np.dot(n, np.array([1,0])))\n",
    "# print(n, '\\n', phi)"
   ]
  },
  {
   "cell_type": "code",
   "execution_count": 420,
   "id": "5a7b7ca0",
   "metadata": {},
   "outputs": [
    {
     "name": "stdout",
     "output_type": "stream",
     "text": [
      "[0.98019606 0.19802951] \n",
      " 0.19934720770440856\n"
     ]
    }
   ],
   "source": [
    "n = np.array([1, -1/d_ellipse(*m)])\n",
    "n /= np.linalg.norm(n)\n",
    "phi = np.arccos(np.dot(n, np.array([1,0])))\n",
    "if m[0]/m[1] < 0:\n",
    "    print(\"adjusted\")\n",
    "    phi = np.pi - phi\n",
    "print(n, '\\n', phi)"
   ]
  },
  {
   "cell_type": "code",
   "execution_count": 421,
   "id": "d6b3a4d2",
   "metadata": {},
   "outputs": [
    {
     "data": {
      "text/plain": [
       "array([[ 0.92156863,  0.38821549],\n",
       "       [ 0.38821549, -0.92156863]])"
      ]
     },
     "execution_count": 421,
     "metadata": {},
     "output_type": "execute_result"
    }
   ],
   "source": [
    "R(phi)"
   ]
  },
  {
   "cell_type": "code",
   "execution_count": 422,
   "id": "67d30b20",
   "metadata": {},
   "outputs": [
    {
     "data": {
      "text/plain": [
       "array([-0.92156863, -0.38821549])"
      ]
     },
     "execution_count": 422,
     "metadata": {},
     "output_type": "execute_result"
    }
   ],
   "source": [
    "v_new = -np.matmul(R(phi), v)\n",
    "v_new"
   ]
  },
  {
   "cell_type": "code",
   "execution_count": 423,
   "id": "497bd5ca",
   "metadata": {},
   "outputs": [],
   "source": [
    "t_min = minimize(param_boundary, .2, args = (m, v_new, ellipse), bounds = ((.1,1),),method = 'Powell').x[0]\n",
    "m_new = xy(t_min, m, m + 2*v_new)"
   ]
  },
  {
   "cell_type": "code",
   "execution_count": 424,
   "id": "c09f0b72",
   "metadata": {
    "scrolled": true
   },
   "outputs": [],
   "source": [
    "# fig = plt.figure(figsize = (15,5))\n",
    "\n",
    "# theta = np.linspace(0, 2*np.pi, 1000)\n",
    "# plt.plot(np.cos(theta), np.sin(theta), color = 'black')\n",
    "# plt.axis('equal')\n",
    "\n",
    "# plt.plot([x[0], m[0]], [x[1], m[1]], color = 'red', ls = '--')\n",
    "# plt.plot([m[0], m_new[0]], [m[1], m_new[1]], color = 'green', ls = 'dotted')"
   ]
  },
  {
   "cell_type": "code",
   "execution_count": 425,
   "id": "b46e8461",
   "metadata": {},
   "outputs": [
    {
     "data": {
      "text/plain": [
       "array([0.98019606, 0.19802951])"
      ]
     },
     "execution_count": 425,
     "metadata": {},
     "output_type": "execute_result"
    }
   ],
   "source": [
    "n"
   ]
  },
  {
   "cell_type": "code",
   "execution_count": 426,
   "id": "add25333",
   "metadata": {
    "scrolled": true
   },
   "outputs": [
    {
     "data": {
      "text/plain": [
       "[<matplotlib.lines.Line2D at 0x7fb83e0d5d90>]"
      ]
     },
     "execution_count": 426,
     "metadata": {},
     "output_type": "execute_result"
    },
    {
     "data": {
      "image/png": "[encoded data removed]",
      "text/plain": [
       "<Figure size 1080x360 with 1 Axes>"
      ]
     },
     "metadata": {
      "needs_background": "light"
     },
     "output_type": "display_data"
    }
   ],
   "source": [
    "fig = plt.figure(figsize = (15,5))\n",
    "\n",
    "a = np.linspace(-1, 1, 1000)\n",
    "y_minus = -np.sqrt(1/2 - (a**2)/2)\n",
    "y_plus = np.sqrt(1/2 - (a**2)/2)\n",
    "\n",
    "plt.plot(np.concatenate([a,a[::-1]]), np.concatenate([y_minus,y_plus[::-1]]), color = 'black')\n",
    "plt.axis('equal')\n",
    "\n",
    "plt.plot([x[0], m[0]], [x[1], m[1]], color = 'red', ls = '--')\n",
    "plt.plot([m[0], m_new[0]], [m[1], m_new[1]], color = 'green', ls = 'dotted')\n",
    "plt.scatter(1/np.sqrt(2), 0, color = 'black')\n",
    "plt.scatter(-1/np.sqrt(2), 0, color = 'black')\n",
    "\n",
    "plt.plot([m[0]-n[0]/4, m[0], m[0]+n[0]/4, ], [m[1]-n[1]/4, m[1], m[1]+n[1]/4],color = 'black', alpha = .5)"
   ]
  },
  {
   "cell_type": "markdown",
   "id": "3e859449",
   "metadata": {},
   "source": [
    "## Next steps: turn above code into an interative process (variable changes into a loop with storage of step information in arrays or lists) "
   ]
  },
  {
   "cell_type": "code",
   "execution_count": 429,
   "id": "970b6055",
   "metadata": {},
   "outputs": [],
   "source": [
    "#function for calculating one billiard bounce\n",
    "def bounce(x, v, boundary, d_boundary):\n",
    "    #normalize s.t. velocity is direction unit vector\n",
    "    v = v/np.linalg.norm(v)\n",
    "    #minimize for spot along ball's path where it is closest to the wall (hits)\n",
    "    #analytically solveable for circle and (probably) ellipse, but doing this allows for any boundary so long\n",
    "    #    as you can describe the tangent line at any (x,y)\n",
    "    t_min = minimize(param_boundary, 1/2, args = (x, v, ellipse), bounds = ((.01,1),),method = 'Powell').x[0]\n",
    "    #point where the path hits boundary; 2v used as second line segment point-- relies on normalization of boundaries\n",
    "    m = xy(t_min, x, x + 2*v)\n",
    "    #finds normalized normal line to the boundary edge hit\n",
    "    n = np.array([1, -1/d_boundary(*m)])\n",
    "    n /= np.linalg.norm(n)\n",
    "    #finds vector between normal line and x-axis (using dot product)\n",
    "    phi = np.arccos(n[0])\n",
    "    #corrects for QI and QIII\n",
    "    if m[0]/m[1] < 0:\n",
    "        phi = np.pi - phi\n",
    "    #new path from m\n",
    "    v_new = -np.matmul(R(phi), v)\n",
    "\n",
    "    return m, v_new"
   ]
  },
  {
   "cell_type": "code",
   "execution_count": 428,
   "id": "cf7fbfb1",
   "metadata": {},
   "outputs": [
    {
     "data": {
      "text/plain": [
       "(array([0.98994949, 0.1       ]), array([-0.92156863, -0.38821549]))"
      ]
     },
     "execution_count": 428,
     "metadata": {},
     "output_type": "execute_result"
    }
   ],
   "source": [
    "x = np.array([.1,.1])\n",
    "v = np.array([1,0])\n",
    "bounce(x,v, ellipse, d_ellipse)"
   ]
  }
 ],
 "metadata": {
  "kernelspec": {
   "display_name": "Python 3",
   "language": "python",
   "name": "python3"
  },
  "language_info": {
   "codemirror_mode": {
    "name": "ipython",
    "version": 3
   },
   "file_extension": ".py",
   "mimetype": "text/x-python",
   "name": "python",
   "nbconvert_exporter": "python",
   "pygments_lexer": "ipython3",
   "version": "3.7.10"
  }
 },
 "nbformat": 4,
 "nbformat_minor": 5
}
